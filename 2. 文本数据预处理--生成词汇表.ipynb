{
 "cells": [
  {
   "cell_type": "markdown",
   "metadata": {},
   "source": [
    "# 生成词汇表与数据编码"
   ]
  },
  {
   "cell_type": "code",
   "execution_count": 1,
   "metadata": {},
   "outputs": [],
   "source": [
    "import os\n",
    "import codecs\n",
    "import collections\n",
    "from operator import itemgetter"
   ]
  },
  {
   "cell_type": "code",
   "execution_count": 2,
   "metadata": {},
   "outputs": [],
   "source": [
    "zh_file = \"./data/en-zh/train.trg.zh\"\n",
    "en_trg_file = \"./data/en-zh/train.trg.en-zh.en\"\n",
    "DATA_ROOT = \"./data\"\n",
    "TRIAN_DIR = os.path.join(DATA_ROOT, \"train\")\n",
    "if not os.path.exists(TRIAN_DIR):\n",
    "    os.makedirs(TRIAN_DIR)"
   ]
  },
  {
   "cell_type": "code",
   "execution_count": 3,
   "metadata": {},
   "outputs": [],
   "source": [
    "ZH_VOCAB_SIZE = 4000\n",
    "ZH_VOCAB_OUTPUT = os.path.join(TRIAN_DIR, \"zh.vocab\")\n",
    "ZH_TRAIN = os.path.join(TRIAN_DIR, \"zh.train\")\n",
    "\n",
    "EN_VOCAB_SIZE = 10000\n",
    "EN_VOCAB_OUTPUT = os.path.join(TRIAN_DIR, \"en.vocab\")\n",
    "EN_TRAIN = os.path.join(TRIAN_DIR, \"en.train\")"
   ]
  },
  {
   "cell_type": "code",
   "execution_count": 4,
   "metadata": {},
   "outputs": [],
   "source": [
    "def build_sorted_words(file_path):\n",
    "    \"\"\"按空格分词、按词频统计得到一个排序的列表\"\"\"\n",
    "    counter = collections.Counter()\n",
    "    with codecs.open(file_path, \"r\", \"utf-8\") as f:\n",
    "        for line in f:\n",
    "            for word in line.strip().split():\n",
    "                counter[word] += 1\n",
    "\n",
    "    # 按词频顺序对单词进行排序。\n",
    "    sorted_word_to_cnt = sorted(\n",
    "        counter.items(), key=itemgetter(1), reverse=True)\n",
    "    sorted_words = [x[0] for x in sorted_word_to_cnt]\n",
    "    return sorted_words\n",
    "\n",
    "\n",
    "def bulid_vocab(sorted_words, vocab_size, file_path):\n",
    "    \"\"\"构建词汇表，输出到词汇表文件\"\"\"\n",
    "    sorted_words = [\"<unk>\", \"<sos>\", \"<eos>\"] + sorted_words\n",
    "    if len(sorted_words) >= vocab_size:\n",
    "        sorted_words = sorted_words[:vocab_size]\n",
    "    with codecs.open(file_path, 'w', 'utf-8') as f:\n",
    "        for word in sorted_words:\n",
    "            f.write(word + \"\\n\")\n",
    "    print(\"Build {} done.\".format(file_path))"
   ]
  },
  {
   "cell_type": "code",
   "execution_count": 5,
   "metadata": {},
   "outputs": [],
   "source": [
    "words = build_sorted_words(en_trg_file)"
   ]
  },
  {
   "cell_type": "code",
   "execution_count": 6,
   "metadata": {},
   "outputs": [],
   "source": [
    "words = build_sorted_words(zh_file)"
   ]
  },
  {
   "cell_type": "code",
   "execution_count": 7,
   "metadata": {},
   "outputs": [
    {
     "data": {
      "text/plain": [
       "5006"
      ]
     },
     "execution_count": 7,
     "metadata": {},
     "output_type": "execute_result"
    }
   ],
   "source": [
    "len(words)"
   ]
  },
  {
   "cell_type": "code",
   "execution_count": 8,
   "metadata": {},
   "outputs": [],
   "source": [
    "# 构建真正的训练数据，需要加上eos unk sos等"
   ]
  },
  {
   "cell_type": "code",
   "execution_count": null,
   "metadata": {},
   "outputs": [],
   "source": []
  }
 ],
 "metadata": {
  "kernelspec": {
   "display_name": "Python 3",
   "language": "python",
   "name": "python3"
  },
  "language_info": {
   "codemirror_mode": {
    "name": "ipython",
    "version": 3
   },
   "file_extension": ".py",
   "mimetype": "text/x-python",
   "name": "python",
   "nbconvert_exporter": "python",
   "pygments_lexer": "ipython3",
   "version": "3.6.9"
  }
 },
 "nbformat": 4,
 "nbformat_minor": 2
}
