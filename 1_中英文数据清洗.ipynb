{
 "cells": [
  {
   "cell_type": "code",
   "execution_count": 45,
   "metadata": {},
   "outputs": [],
   "source": [
    "import re\n",
    "import codecs\n",
    "import emoji\n",
    "import string\n",
    "import collections\n",
    "from operator import itemgetter"
   ]
  },
  {
   "cell_type": "markdown",
   "metadata": {},
   "source": [
    "## 预处理\n",
    "- 英文切词：把单词和标点紧密联系的切开！\n",
    "\n",
    "- 中文： 分词，更便捷的处理是以字为单位切割。\n",
    "\n",
    "### 英文文本清洗\n",
    "- 缩略词更改\n",
    "- 拼写校正\n",
    "- 标点符号\n",
    "- 符号替换\n",
    "- 去除空格"
   ]
  },
  {
   "cell_type": "code",
   "execution_count": 2,
   "metadata": {},
   "outputs": [],
   "source": [
    "def clean_text(text):\n",
    "    \"\"\"\n",
    "    Clean text\n",
    "    :param text: the string of text\n",
    "    :return: text string after cleaning\n",
    "    \"\"\"\n",
    "    # acronym\n",
    "    text = re.sub(r\"can\\'t\", \"can not\", text)\n",
    "    text = re.sub(r\"cannot\", \"can not \", text)\n",
    "    text = re.sub(r\"what\\'s\", \"what is\", text)\n",
    "    text = re.sub(r\"What\\'s\", \"what is\", text)\n",
    "    text = re.sub(r\"\\'ve \", \" have \", text)\n",
    "    text = re.sub(r\"n\\'t\", \" not \", text)\n",
    "    text = re.sub(r\"i\\'m\", \"i am \", text)\n",
    "    text = re.sub(r\"I\\'m\", \"i am \", text)\n",
    "    text = re.sub(r\"\\'re\", \" are \", text)\n",
    "    text = re.sub(r\"\\'d\", \" would \", text)\n",
    "    text = re.sub(r\"\\'ll\", \" will \", text)\n",
    "    text = re.sub(r\" e mail \", \" email \", text)\n",
    "    text = re.sub(r\" e \\- mail \", \" email \", text)\n",
    "    text = re.sub(r\" e\\-mail \", \" email \", text)\n",
    "\n",
    "    # spelling correction\n",
    "    text = re.sub(r\"ph\\.d\", \"phd\", text)\n",
    "    text = re.sub(r\"PhD\", \"phd\", text)\n",
    "    text = re.sub(r\" e g \", \" eg \", text)\n",
    "    text = re.sub(r\" fb \", \" facebook \", text)\n",
    "    text = re.sub(r\"facebooks\", \" facebook \", text)\n",
    "    text = re.sub(r\"facebooking\", \" facebook \", text)\n",
    "    # text = re.sub(r\" usa \", \" america \", text)\n",
    "    # text = re.sub(r\" us \", \" america \", text)\n",
    "    # text = re.sub(r\" u s \", \" america \", text)\n",
    "    # text = re.sub(r\" U\\.S\\. \", \" america \", text)\n",
    "    text = re.sub(r\" US \", \" america \", text)\n",
    "    text = re.sub(r\" American \", \" america \", text)\n",
    "    text = re.sub(r\" America \", \" america \", text)\n",
    "    text = re.sub(r\" mbp \", \" macbook-pro \", text)\n",
    "    text = re.sub(r\" mac \", \" macbook \", text)\n",
    "    text = re.sub(r\"macbook pro\", \"macbook-pro\", text)\n",
    "    text = re.sub(r\"macbook-pros\", \"macbook-pro\", text)\n",
    "    text = re.sub(r\" 1 \", \" one \", text)\n",
    "    text = re.sub(r\" 2 \", \" two \", text)\n",
    "    text = re.sub(r\" 3 \", \" three \", text)\n",
    "    text = re.sub(r\" 4 \", \" four \", text)\n",
    "    text = re.sub(r\" 5 \", \" five \", text)\n",
    "    text = re.sub(r\" 6 \", \" six \", text)\n",
    "    text = re.sub(r\" 7 \", \" seven \", text)\n",
    "    text = re.sub(r\" 8 \", \" eight \", text)\n",
    "    text = re.sub(r\" 9 \", \" nine \", text)\n",
    "    text = re.sub(r\"googling\", \" google \", text)\n",
    "    text = re.sub(r\"googled\", \" google \", text)\n",
    "    text = re.sub(r\"googleable\", \" google \", text)\n",
    "    text = re.sub(r\"googles\", \" google \", text)\n",
    "    text = re.sub(r\"dollars\", \" dollar \", text)\n",
    "\n",
    "    # punctuation\n",
    "    text = re.sub(r\"\\+\", \" + \", text)\n",
    "    text = re.sub(r\"'\", \" \", text)\n",
    "    text = re.sub(r\"-\", \" - \", text)\n",
    "    text = re.sub(r\"/\", \" / \", text)\n",
    "    # text = re.sub(r\"\\\\\", \" \\ \", text)\n",
    "    text = re.sub(r\"=\", \" = \", text)\n",
    "    text = re.sub(r\"\\^\", \" ^ \", text)\n",
    "    text = re.sub(r\":\", \" : \", text)\n",
    "    text = re.sub(r\"\\.\", \" . \", text)\n",
    "    text = re.sub(r\",\", \" , \", text)\n",
    "    text = re.sub(r\"\\?\", \" ? \", text)\n",
    "    text = re.sub(r\"!\", \" ! \", text)\n",
    "    text = re.sub(r\"\\\"\", \" \\\" \", text)\n",
    "    text = re.sub(r\"&\", \" & \", text)\n",
    "    text = re.sub(r\"\\|\", \" | \", text)\n",
    "    text = re.sub(r\";\", \" ; \", text)\n",
    "    text = re.sub(r\"\\(\", \" ( \", text)\n",
    "    text = re.sub(r\"\\)\", \" ( \", text)\n",
    "\n",
    "    # symbol replacement\n",
    "    text = re.sub(r\"&\", \" and \", text)\n",
    "    text = re.sub(r\"\\|\", \" or \", text)\n",
    "    text = re.sub(r\"=\", \" equal \", text)\n",
    "    text = re.sub(r\"\\+\", \" plus \", text)\n",
    "    text = re.sub(r\"\\$\", \" dollar \", text)\n",
    "\n",
    "    # remove extra space\n",
    "    text = ' '.join(text.split())\n",
    "\n",
    "    return text\n",
    "\n",
    "\n",
    "def clean_text_zh(text):\n",
    "    \"\"\"中文数据清洗\"\"\"\n",
    "    # 去除空格\n",
    "    text = re.sub(' ', '', text)\n",
    "    # 去掉全角空白符，\\u3000 是全角的空白符\n",
    "    text = re.sub('\\u3000', '', text)\n",
    "    # 去掉 \\xa0 是不间断空白符 &nbsp;\n",
    "    text = re.sub('\\xa0', '', text)\n",
    "    # 去掉未识别的表情符号\n",
    "    text = re.sub('<U+.*>', '', text)\n",
    "    # 去除英文标点, 这应该放在最后\n",
    "    text = text.translate(\n",
    "        str.maketrans('', '', string.punctuation))\n",
    "    return text\n",
    "\n",
    "# 清除emoji\n",
    "def filter_emoji(srcstr, restr=''):  \n",
    "    \"\"\"过滤emoji\"\"\"\n",
    "    # 编译匹配表情的正则\n",
    "    prog = emoji.get_emoji_regexp()\n",
    "    return prog.sub(restr, srcstr) "
   ]
  },
  {
   "cell_type": "code",
   "execution_count": 3,
   "metadata": {},
   "outputs": [],
   "source": [
    "def is_remove(line):\n",
    "    items = [\"<url>\", \"<keywords>\", \"<speaker>\", \"<talkid>\", \"<translator\", \"<reviewer\"]\n",
    "    for part in items:\n",
    "        if line.startswith(part):\n",
    "            return True\n",
    "    return False          "
   ]
  },
  {
   "cell_type": "code",
   "execution_count": 4,
   "metadata": {},
   "outputs": [],
   "source": [
    "def remove_html_line(read_file, write_file):\n",
    "    fw = open(write_file, \"a+\")\n",
    "    with open(read_file, \"r\") as f:\n",
    "        for line in f:\n",
    "            r = is_remove(line)\n",
    "            if r: \n",
    "                continue\n",
    "            if line.startswith(\"<title>\"):\n",
    "                text = re.sub(r\"<title>|</title>\", \"\", line)\n",
    "            elif line.startswith(\"<description>\"):\n",
    "                text = re.sub(r\"<description>|</description>\", \"\", line)\n",
    "            else:\n",
    "                text = line\n",
    "            fw.write(text)\n",
    "    fw.close()"
   ]
  },
  {
   "cell_type": "code",
   "execution_count": 2,
   "metadata": {},
   "outputs": [],
   "source": [
    "en_file = \"./data/en-zh/train.tags.en-zh.en\"\n",
    "zh_file = \"./data/en-zh/train.tags.en-zh.zh\"\n",
    "\n",
    "en_tmp_file = \"./data/en-zh/train.trg.en-zh.en.1\"\n",
    "zh_trg_file = \"./data/en-zh/train.trg.en-zh.zh\""
   ]
  },
  {
   "cell_type": "code",
   "execution_count": 6,
   "metadata": {},
   "outputs": [],
   "source": [
    "en_trg_file = \"./data/en-zh/train.trg.en-zh.en\""
   ]
  },
  {
   "cell_type": "code",
   "execution_count": 7,
   "metadata": {},
   "outputs": [],
   "source": [
    "remove_html_line(en_file, en_tmp_file)"
   ]
  },
  {
   "cell_type": "code",
   "execution_count": 8,
   "metadata": {},
   "outputs": [],
   "source": [
    "remove_html_line(zh_file, zh_trg_file)"
   ]
  },
  {
   "cell_type": "code",
   "execution_count": 9,
   "metadata": {},
   "outputs": [],
   "source": [
    "fw = open(en_trg_file, \"a+\")\n",
    "with open(en_tmp_file, \"r\") as f:\n",
    "    for line in f:\n",
    "        text = clean_text(line)+\"\\n\"\n",
    "        fw.write(text)\n",
    "fw.close()"
   ]
  },
  {
   "cell_type": "code",
   "execution_count": 10,
   "metadata": {},
   "outputs": [
    {
     "data": {
      "text/plain": [
       "'\\npt-tf-env) [dc@gz_6237_gpu en-zh]$ wc -l train.trg.en-zh.zh\\n213377 train.trg.en-zh.zh\\n(pt-tf-env) [dc@gz_6237_gpu en-zh]$ wc -l train.trg.en-zh.en\\n213377 train.trg.en-zh.en\\n'"
      ]
     },
     "execution_count": 10,
     "metadata": {},
     "output_type": "execute_result"
    }
   ],
   "source": [
    "'''\n",
    "pt-tf-env) [dc@gz_6237_gpu en-zh]$ wc -l train.trg.en-zh.zh\n",
    "213377 train.trg.en-zh.zh\n",
    "(pt-tf-env) [dc@gz_6237_gpu en-zh]$ wc -l train.trg.en-zh.en\n",
    "213377 train.trg.en-zh.en\n",
    "'''"
   ]
  },
  {
   "cell_type": "markdown",
   "metadata": {},
   "source": [
    "- 中文数据集还需要做处理"
   ]
  },
  {
   "cell_type": "code",
   "execution_count": 3,
   "metadata": {},
   "outputs": [],
   "source": [
    "zh_file = \"./data/en-zh/train.trg.zh\""
   ]
  },
  {
   "cell_type": "code",
   "execution_count": 9,
   "metadata": {},
   "outputs": [],
   "source": [
    "def preprocess_zh(f1, f2):\n",
    "    fw = open(f2, \"w\")\n",
    "    with open(f1, \"r\") as f:\n",
    "        for line in f:\n",
    "            line_li = [w.strip() for w in line.strip()]\n",
    "            string = \" \".join(line_li)\n",
    "            fw.write(string+\"\\n\")\n",
    "    fw.close()\n",
    "    print(\"done!\")"
   ]
  },
  {
   "cell_type": "code",
   "execution_count": 10,
   "metadata": {},
   "outputs": [
    {
     "name": "stdout",
     "output_type": "stream",
     "text": [
      "done!\n"
     ]
    }
   ],
   "source": [
    "preprocess_zh(zh_trg_file, zh_file)"
   ]
  },
  {
   "cell_type": "code",
   "execution_count": 49,
   "metadata": {},
   "outputs": [],
   "source": [
    "slist = [\n",
    "    \"开满鲜花的小路1️⃣\",\n",
    "    \"背景音乐怎么不见了<U+1F643>\",\n",
    "    \"2020，你好❤️\",\n",
    "    \"甜甜<U+1F63B><U+1F34E>的声音作品 - 《他若开心，我便开心-《灵魂摆渡·黄泉》》\",\n",
    "    \"<U+1F497>迎春花儿☘️浅滩的声音作品 -《新年祝福 | 愿新年的每一天都能温暖如初》\",\n",
    "    \" 　　不是再见  　　顾城  　　我们告别了两年  　　告别的结果  　　总是相见  　　今夜，你真要走了  　　真的走了，不是再见  　　还需要什么？  　　手凉凉的，没有手绢\",\n",
    "    \"一定要做开心的自己喔♥\",\n",
    "    \"第1⃣7⃣课朗读\",\n",
    "    \"张乙～落花生\"\n",
    "    \n",
    "]"
   ]
  },
  {
   "cell_type": "code",
   "execution_count": 57,
   "metadata": {},
   "outputs": [
    {
     "name": "stdout",
     "output_type": "stream",
     "text": [
      "开满鲜花的小路\n",
      "背景音乐怎么不见了\n",
      "2020，你好️\n",
      "甜甜的声音作品-《他若开心，我便开心-《灵魂摆渡·黄泉》》\n",
      "迎春花儿️浅滩的声音作品-《新年祝福|愿新年的每一天都能温暖如初》\n",
      "不是再见顾城我们告别了两年 告别的结果 总是相见 今夜，你真要走了 真的走了，不是再见还需要什么？ 手凉凉的，没有手绢\n",
      "一定要做开心的自己喔\n",
      "第课朗读\n",
      "张乙～落花生\n"
     ]
    }
   ],
   "source": [
    "for i in slist:\n",
    "    r = re.sub('<U+.*>', '', i)\n",
    "    # 去掉全角空白符，\\u3000 是全角的空白符\n",
    "    r = re.sub('\\u3000', '', r)\n",
    "    # 替换表情\n",
    "    r = filter_emoji(r, restr='')\n",
    "    print(filter_space(r))"
   ]
  },
  {
   "cell_type": "code",
   "execution_count": null,
   "metadata": {},
   "outputs": [],
   "source": []
  }
 ],
 "metadata": {
  "kernelspec": {
   "display_name": "Python 3",
   "language": "python",
   "name": "python3"
  },
  "language_info": {
   "codemirror_mode": {
    "name": "ipython",
    "version": 3
   },
   "file_extension": ".py",
   "mimetype": "text/x-python",
   "name": "python",
   "nbconvert_exporter": "python",
   "pygments_lexer": "ipython3",
   "version": "3.6.9"
  }
 },
 "nbformat": 4,
 "nbformat_minor": 2
}
