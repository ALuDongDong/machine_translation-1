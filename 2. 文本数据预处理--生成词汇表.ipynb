{
 "cells": [
  {
   "cell_type": "markdown",
   "metadata": {},
   "source": [
    "# 生成词汇表与数据编码"
   ]
  },
  {
   "cell_type": "code",
   "execution_count": 1,
   "metadata": {},
   "outputs": [],
   "source": [
    "import os\n",
    "import codecs\n",
    "import collections\n",
    "from operator import itemgetter"
   ]
  },
  {
   "cell_type": "code",
   "execution_count": 2,
   "metadata": {},
   "outputs": [],
   "source": [
    "zh_file = \"./data/en-zh/train.trg.zh\"\n",
    "en_trg_file = \"./data/en-zh/train.trg.en-zh.en\"\n",
    "DATA_ROOT = \"./data\"\n",
    "TRIAN_DIR = os.path.join(DATA_ROOT, \"train\")\n",
    "if not os.path.exists(TRIAN_DIR):\n",
    "    os.makedirs(TRIAN_DIR)"
   ]
  },
  {
   "cell_type": "code",
   "execution_count": 3,
   "metadata": {},
   "outputs": [],
   "source": [
    "ZH_VOCAB_SIZE = 4000\n",
    "ZH_VOCAB_OUTPUT = os.path.join(TRIAN_DIR, \"zh.vocab\")\n",
    "ZH_RAW = os.path.join(TRIAN_DIR, \"zh.raw\")\n",
    "ZH_TRAIN = os.path.join(TRIAN_DIR, \"zh.train\")\n",
    "\n",
    "EN_VOCAB_SIZE = 10000\n",
    "EN_VOCAB_OUTPUT = os.path.join(TRIAN_DIR, \"en.vocab\")\n",
    "EN_RAW = os.path.join(TRIAN_DIR, \"en.raw\")\n",
    "EN_TRAIN = os.path.join(TRIAN_DIR, \"en.train\")"
   ]
  },
  {
   "cell_type": "code",
   "execution_count": 13,
   "metadata": {},
   "outputs": [],
   "source": [
    "def build_sorted_words(file_path):\n",
    "    \"\"\"按空格分词、按词频统计得到一个排序的列表\"\"\"\n",
    "    counter = collections.Counter()\n",
    "    with codecs.open(file_path, \"r\", \"utf-8\") as f:\n",
    "        for line in f:\n",
    "            for word in line.strip().split():\n",
    "                counter[word] += 1\n",
    "\n",
    "    # 按词频顺序对单词进行排序。\n",
    "    sorted_word_to_cnt = sorted(\n",
    "        counter.items(), key=itemgetter(1), reverse=True)\n",
    "    sorted_words = [x[0] for x in sorted_word_to_cnt]\n",
    "    return sorted_words\n",
    "\n",
    "\n",
    "def bulid_vocab(sorted_words, vocab_size, file_path):\n",
    "    \"\"\"构建词汇表，输出到词汇表文件\"\"\"\n",
    "    sorted_words = [\"<unk>\", \"<sos>\", \"<eos>\"] + sorted_words\n",
    "    if len(sorted_words) >= vocab_size:\n",
    "        sorted_words = sorted_words[:vocab_size]\n",
    "    with codecs.open(file_path, 'w', 'utf-8') as f:\n",
    "        for word in sorted_words:\n",
    "            f.write(word + \"\\n\")\n",
    "    print(\"Build {} done.\".format(file_path))\n",
    "    \n",
    "    \n",
    "class Tokenizer(object):\n",
    "    \"\"\"解析器\"\"\"\n",
    "    def __init__(self, vocab_file):\n",
    "        self.vocab_file = vocab_file\n",
    "        self.vocab_list = self.load_vocab()\n",
    "        self.word2idx = self.build_word2idx()\n",
    "        self.idx2word = self.bulid_idx2word()\n",
    "        \n",
    "    def load_vocab(self):\n",
    "        vocab = []\n",
    "        with open(self.vocab_file, \"r\") as f:\n",
    "            for word in f:\n",
    "                vocab.append(word.strip())\n",
    "        return vocab\n",
    "    \n",
    "    def build_word2idx(self):\n",
    "        word2idx = {w:i for i, w in enumerate(self.vocab_list)}\n",
    "        return word2idx\n",
    "    \n",
    "    def bulid_idx2word(self):\n",
    "        idx2word = {i:w for i, w in enumerate(self.vocab_list)}\n",
    "        return idx2word\n",
    "    \n",
    "    def wtoi(self, word_list):\n",
    "        idx_list = []\n",
    "        for word in word_list:\n",
    "            if word not in self.word2idx:\n",
    "                idx = self.word2idx.get(\"<unk>\")\n",
    "            else:\n",
    "                idx = self.word2idx.get(word)\n",
    "            idx_list.append(idx)\n",
    "        return idx_list\n",
    "        \n",
    "    def itow(self, idx_list):\n",
    "        word_list = []\n",
    "        for idx in idx_list:\n",
    "            word = self.idx2word.get(idx)\n",
    "            word_list.append(word)\n",
    "        return word_list\n",
    "    \n",
    "def zh_to_list(sentence):\n",
    "    \"\"\"中文句子转列表\"\"\"\n",
    "    li = [w.strip() for w in sentence.strip()]\n",
    "    return li\n",
    "\n",
    "def en_to_list(sentence):\n",
    "    \"\"\"英文句子转列表\"\"\"\n",
    "    return sentence.strip().split()"
   ]
  },
  {
   "cell_type": "code",
   "execution_count": 5,
   "metadata": {},
   "outputs": [],
   "source": [
    "# words = build_sorted_words(en_trg_file)"
   ]
  },
  {
   "cell_type": "code",
   "execution_count": 5,
   "metadata": {},
   "outputs": [],
   "source": [
    "## 处理中文\n",
    "words = build_sorted_words(zh_file)"
   ]
  },
  {
   "cell_type": "code",
   "execution_count": 6,
   "metadata": {},
   "outputs": [
    {
     "name": "stdout",
     "output_type": "stream",
     "text": [
      "Build ./data/train/zh.vocab done.\n"
     ]
    }
   ],
   "source": [
    "bulid_vocab(words, ZH_VOCAB_SIZE, ZH_VOCAB_OUTPUT)"
   ]
  },
  {
   "cell_type": "code",
   "execution_count": 11,
   "metadata": {},
   "outputs": [],
   "source": [
    "tokenizer = Tokenizer(ZH_VOCAB_OUTPUT)"
   ]
  },
  {
   "cell_type": "code",
   "execution_count": 15,
   "metadata": {},
   "outputs": [],
   "source": [
    "s = \"我爱北京天安门\""
   ]
  },
  {
   "cell_type": "code",
   "execution_count": 16,
   "metadata": {},
   "outputs": [
    {
     "data": {
      "text/plain": [
       "[5, 397, 843, 1836, 126, 376, 634]"
      ]
     },
     "execution_count": 16,
     "metadata": {},
     "output_type": "execute_result"
    }
   ],
   "source": [
    "tokenizer.wtoi(zh_to_list(s))"
   ]
  },
  {
   "cell_type": "code",
   "execution_count": null,
   "metadata": {},
   "outputs": [],
   "source": []
  }
 ],
 "metadata": {
  "kernelspec": {
   "display_name": "Python 3",
   "language": "python",
   "name": "python3"
  },
  "language_info": {
   "codemirror_mode": {
    "name": "ipython",
    "version": 3
   },
   "file_extension": ".py",
   "mimetype": "text/x-python",
   "name": "python",
   "nbconvert_exporter": "python",
   "pygments_lexer": "ipython3",
   "version": "3.6.9"
  }
 },
 "nbformat": 4,
 "nbformat_minor": 2
}
