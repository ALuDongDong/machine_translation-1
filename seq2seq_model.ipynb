{
 "cells": [
  {
   "cell_type": "code",
   "execution_count": 1,
   "metadata": {},
   "outputs": [],
   "source": [
    "import tensorflow as tf"
   ]
  },
  {
   "cell_type": "code",
   "execution_count": 2,
   "metadata": {},
   "outputs": [],
   "source": [
    "MAX_LEN = 50\n",
    "SOS_ID = 1"
   ]
  },
  {
   "cell_type": "code",
   "execution_count": null,
   "metadata": {},
   "outputs": [],
   "source": []
  },
  {
   "cell_type": "code",
   "execution_count": 3,
   "metadata": {},
   "outputs": [],
   "source": [
    "def make_dataset(file_path):\n",
    "    dataset = tf.data.TextLineDataset(file_path)\n",
    "    dataset = dataset.map(lambda string: tf.string_split([string]).values)\n",
    "    # 将字符串形式的单词编号-> 整数\n",
    "    dataset = dataset.map(lambda string: tf.string_to_number(string, tf.int32))\n",
    "    dataset = dataset.map(lambda x: (x, tf.size(x)))\n",
    "    return dataset"
   ]
  },
  {
   "cell_type": "code",
   "execution_count": 4,
   "metadata": {},
   "outputs": [],
   "source": [
    "# 从源语言文件 src_path 和目标语言 文件 trg_path 分别读取数据，并进行填充和batching操作\n",
    "def make_src_trg_dataset(src_path, trg_path, batch_size):\n",
    "    src_data = make_dataset(src_path)\n",
    "    trg_data = make_dataset(trg_path)\n",
    "    # zip 合并后 每项ds 由4个张量组成\n",
    "    #  ds[0][0] 是源句子\n",
    "    #  ds[0][1] 是源句子长度\n",
    "    #  ds[1][0] 是目标句子\n",
    "    #  ds[1][1] 是目标句子长度\n",
    "    \n",
    "    # 处理内容为空和长度过长的句子\n",
    "    def filter_length(src_tuple, trg_tuple):\n",
    "        ((src_input, src_len), (trg_label, trg_len)) = (src_tuple, trg_tuple)\n",
    "        src_len_ok = tf.logical_and(\n",
    "            tf.greater(src_len, l), tf.less_equal(src_len, MAX_LEN))\n",
    "        trg_len_ok = tf.logical_and(\n",
    "            tf.greater(trg_len, l), tf.less_equal(trg_len, MAX_LEN))\n",
    "        return tf.logical_and(src_len_ok, trg_len_ok)\n",
    "    dataset = dataset.filter(filter_length)\n",
    "    # 解码器需要两种格式的的目标句子：\n",
    "    #  1.解码器的输入（trg_input），形式如同：“<sos X Y Z>”\n",
    "    #  2.解码器的目标输出（trg_label），形式如同“X Y Z <eos>”\n",
    "    # 从文件中读到的是“<sos X Y Z>” 形式，我们需要从中生成“X Y Z <eos>”形式并加入到Dataset中\n",
    "    def make_trg_input(src_tuple, trg_tuple):\n",
    "        ((src_input, src_len), (trg_label, trg_len)) = (src_tuple, trg_tuple)\n",
    "        trg_input = tf.concat([[SOS_ID], trg_label[:-1]], axis=0)\n",
    "        return ((src_input, src_len), (trg_input, trg_label, trg_len))\n",
    "    dataset = dataset.map(make_trg_input)\n",
    "    \n",
    "    # 随机打乱训练数据\n",
    "    dataset = dataset.shuffle(10000)\n",
    "    \n",
    "    # 规定填充后的输出的数据维度。\n",
    "    padded_shapes = (\n",
    "        (tf.TensorShape([None]),   # 源句子是长度未知向量\n",
    "         tf.TensorShape([])),      # 源句子长度是单个数字\n",
    "        (tf.TensorShape([None]),   # 目标句子（解码器输入）是长度未知的向量\n",
    "         tf.TensorShape([None]),   # 目标句子（解码器目标输出）是长度未知的向量\n",
    "         tf.TensorShape([])))      # 目标句子长度是单个数字\n",
    "    # 调用padded_batch 方法进行batching操作\n",
    "    batched_dataset = dataset.padded_batch(batch_size, padded_shapes)\n",
    "    return batched_dataset"
   ]
  },
  {
   "cell_type": "code",
   "execution_count": null,
   "metadata": {},
   "outputs": [],
   "source": []
  }
 ],
 "metadata": {
  "kernelspec": {
   "display_name": "Python 3",
   "language": "python",
   "name": "python3"
  },
  "language_info": {
   "codemirror_mode": {
    "name": "ipython",
    "version": 3
   },
   "file_extension": ".py",
   "mimetype": "text/x-python",
   "name": "python",
   "nbconvert_exporter": "python",
   "pygments_lexer": "ipython3",
   "version": "3.6.9"
  }
 },
 "nbformat": 4,
 "nbformat_minor": 2
}
